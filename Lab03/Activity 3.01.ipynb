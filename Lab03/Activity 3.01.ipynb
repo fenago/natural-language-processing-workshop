{
 "cells": [
  {
   "cell_type": "code",
   "execution_count": null,
   "metadata": {},
   "outputs": [],
   "source": [
    "import pandas as pd\n",
    "import seaborn as sns\n",
    "import matplotlib.pyplot as plt\n",
    "%matplotlib inline\n",
    "from nltk import word_tokenize\n",
    "from nltk.corpus import stopwords\n",
    "from nltk.stem import WordNetLemmatizer\n",
    "from sklearn.feature_extraction.text import TfidfVectorizer\n",
    "from sklearn.model_selection import train_test_split\n",
    "import nltk\n",
    "import warnings\n",
    "import string\n",
    "import re\n",
    "warnings.filterwarnings('ignore')\n",
    "from sklearn.metrics import accuracy_score, roc_curve, classification_report, confusion_matrix, precision_recall_curve, auc"
   ]
  },
  {
   "cell_type": "code",
   "execution_count": null,
   "metadata": {},
   "outputs": [],
   "source": [
    "data = pd.read_csv('data/news_political_dataset.csv')\n",
    "data.sample(5)"
   ]
  },
  {
   "cell_type": "code",
   "execution_count": null,
   "metadata": {},
   "outputs": [],
   "source": [
    "def clf_model(model_type, X_train, y_train, X_valid):\n",
    "    model = model_type.fit(X_train,y_train)\n",
    "    predicted_labels = model.predict(X_valid)\n",
    "    predicted_probab = model.predict_proba(X_valid)[:,1]\n",
    "    return [predicted_labels,predicted_probab, model]"
   ]
  },
  {
   "cell_type": "code",
   "execution_count": null,
   "metadata": {},
   "outputs": [],
   "source": [
    "def model_evaluation(actual_values, predicted_values, predicted_probabilities):\n",
    "    cfn_mat = confusion_matrix(actual_values,predicted_values)\n",
    "    print(\"confusion matrix: \\n\",cfn_mat)\n",
    "    print(\"\\naccuracy: \",accuracy_score(actual_values,predicted_values))\n",
    "    print(\"\\nclassification report: \\n\", classification_report(actual_values,predicted_values))\n",
    "    fpr,tpr,threshold=roc_curve(actual_values, predicted_probabilities)\n",
    "    print ('\\nArea under ROC curve for validation set:', auc(fpr,tpr))\n",
    "    fig, ax = plt.subplots(figsize=(6,6))\n",
    "    ax.plot(fpr,tpr,label='Validation set AUC')\n",
    "    plt.xlabel('False Positive Rate')\n",
    "    plt.ylabel('True Positive Rate')\n",
    "    ax.legend(loc='best')\n",
    "    plt.show()"
   ]
  },
  {
   "cell_type": "code",
   "execution_count": null,
   "metadata": {},
   "outputs": [],
   "source": [
    "lemmatizer = WordNetLemmatizer()\n",
    "stop_words = stopwords.words('english')\n",
    "stop_words = stop_words + list(string.printable)\n",
    "data['cleaned_headline_text'] = data['short_description'].apply(\\\n",
    "lambda x : ' '.join([lemmatizer.lemmatize(word.lower()) \\\n",
    "    for word in word_tokenize(re.sub(r'([^\\s\\w]|_)+', ' ', str(x))) if word.lower() not in stop_words]))"
   ]
  },
  {
   "cell_type": "code",
   "execution_count": null,
   "metadata": {
    "scrolled": true
   },
   "outputs": [],
   "source": [
    "MAX_FEATURES = 200\n",
    "tfidf_model = TfidfVectorizer(max_features=MAX_FEATURES)\n",
    "tfidf_df = pd.DataFrame(tfidf_model.fit_transform(data['cleaned_headline_text']).todense())\n",
    "tfidf_df.columns = sorted(tfidf_model.vocabulary_)\n",
    "tfidf_df.head()"
   ]
  },
  {
   "cell_type": "code",
   "execution_count": null,
   "metadata": {},
   "outputs": [],
   "source": [
    "X_train, X_valid, y_train, y_valid = train_test_split(tfidf_df, data['is_political'], test_size=0.2, random_state=42,stratify = data['is_political'])"
   ]
  },
  {
   "cell_type": "code",
   "execution_count": null,
   "metadata": {},
   "outputs": [],
   "source": [
    "from xgboost import XGBClassifier\n",
    "xgb_clf=XGBClassifier(n_estimators=10,learning_rate=0.05,max_depth=18,subsample=0.6,colsample_bytree= 0.6,reg_alpha= 10,seed=42)\n",
    "results = clf_model(xgb_clf, X_train, y_train, X_valid)\n",
    "model_evaluation(y_valid, results[0], results[1])\n",
    "model_xgb = results[2]"
   ]
  },
  {
   "cell_type": "code",
   "execution_count": null,
   "metadata": {},
   "outputs": [],
   "source": [
    "word_importances = pd.DataFrame({'word':X_train.columns,'importance':model_xgb.feature_importances_})\n",
    "word_importances.sort_values('importance', ascending = False).head(4)"
   ]
  }
 ],
 "metadata": {
  "kernelspec": {
   "display_name": "Python 3",
   "language": "python",
   "name": "python3"
  },
  "language_info": {
   "codemirror_mode": {
    "name": "ipython",
    "version": 3
   },
   "file_extension": ".py",
   "mimetype": "text/x-python",
   "name": "python",
   "nbconvert_exporter": "python",
   "pygments_lexer": "ipython3",
   "version": "3.7.3"
  }
 },
 "nbformat": 4,
 "nbformat_minor": 2
}
