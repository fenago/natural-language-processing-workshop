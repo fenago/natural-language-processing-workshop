{
 "cells": [
  {
   "cell_type": "markdown",
   "metadata": {},
   "source": [
    "# Summarize two different versions of Little Red Riding Hood using Text Rank (gensim) \n",
    "# http://www.gutenberg.org/cache/epub/11592/pg11592.txt\n",
    "# http://www.gutenberg.org/cache/epub/29021/pg29021.txt"
   ]
  },
  {
   "cell_type": "code",
   "execution_count": 1,
   "metadata": {},
   "outputs": [],
   "source": [
    "from gensim.summarization import summarize\n",
    "import re"
   ]
  },
  {
   "cell_type": "code",
   "execution_count": 2,
   "metadata": {},
   "outputs": [
    {
     "data": {
      "text/plain": [
       "'LITTLE RED RIDING HOOD There was once a sweet little maid who lived with her father and mother in a pretty little cottage at the edge of the village. At the further end of the wood was another pretty cottage and in it lived her grandmother. Everybody loved this little girl, her grandmother perhaps loved her most of all and gave her a great many pretty things. Once she gave her a red cloak with a hood which she always wore, so people called her Little Red Riding Hood. One morning Little Red Riding Hood\\'s mother said, \"Put on your things and go to see your grandmother. She has been ill; take along this basket for her. I have put in it eggs, butter and cake, and other dainties.\" It was a bright and sunny morning. Red Riding Hood was so happy that at first she wanted to dance through the wood. All around her grew pretty wild flowers which she loved so well and she stopped to pick a bunch for her grandmother. Little Red Riding Hood wandered from her path and was stooping to pick a flower when from behind her a gruff voice said, \"Good morning, Little Red Riding Hood.\" Little Red Riding Hood turned around and saw a great big wolf, but Little Red Riding Hood did not know what a wicked beast the wolf was, so she was not afraid. \"What have you in that basket, Little Red Riding Hood?\" \"Eggs and butter and cake, Mr. Wolf.\" \"Where are you going with them, Little Red Riding Hood?\" \"I am going to my grandmother, who is ill, Mr. Wolf.\" \"Where does your grandmother live, Little Red Riding Hood?\" \"Along that path, past the wild rose bushes, then through the gate at the end of the wood, Mr. Wolf.\" Then Mr. Wolf again said \"Good morning\" and set off, and Little Red Riding Hood again went in search of wild flowers. At last he reached the porch covered with flowers and knocked at the door of the cottage. \"Who is there?\" called the grandmother. \"Little Red Riding Hood,\" said the wicked wolf. \"Press the latch, open the door, and walk in,\" said the grandmother. The wolf pressed the latch, and walked in where the grandmother lay in bed. He made one jump at her, but she jumped out of bed into a closet. Then the wolf put on the cap which she had dropped and crept under the bedclothes. In a short while Little Red Riding Hood knocked at the door, and walked in, saying, \"Good morning, Grandmother, I have brought you eggs, butter and cake, and here is a bunch of flowers I gathered in the wood.\" As she came nearer the bed she said, \"What big ears you have, Grandmother.\" \"All the better to hear you with, my dear.\" \"What big eyes you have, Grandmother.\" \"All the better to see you with, my dear.\" \"But, Grandmother, what a big nose you have.\" \"All the better to smell with, my dear.\" \"But, Grandmother, what a big mouth you have.\" \"All the better to eat you up with, my dear,\" he said as he sprang at Little Red Riding Hood. Just at that moment Little Red Riding Hood\\'s father was passing the cottage and heard her scream. He rushed in and with his axe chopped off Mr. Wolf\\'s head. Everybody was happy that Little Red Riding Hood had escaped the wolf. Then Little Red Riding Hood\\'s father carried her home and they lived happily ever after.'"
      ]
     },
     "execution_count": 2,
     "metadata": {},
     "output_type": "execute_result"
    }
   ],
   "source": [
    "file_url_grimms=r'../data/littleredrh/pg11592.txt'\n",
    "with open(file_url_grimms, 'r') as f:\n",
    "        contents_grimms = f.read()\n",
    "start_string_grimms='LITTLE RED RIDING HOOD\\n\\n\\n'\n",
    "end_string_grimms='\\n\\n\\n\\n\\nTHE GOOSE-GIRL'\n",
    "text_grimms=contents_grimms[contents_grimms.find(start_string_grimms):contents_grimms.find(end_string_grimms)]\n",
    "text_grimms=text_grimms.replace('\\n',' ')\n",
    "text_grimms=re.sub(r\"\\s+\",\" \",text_grimms)\n",
    "text_grimms"
   ]
  },
  {
   "cell_type": "code",
   "execution_count": 3,
   "metadata": {},
   "outputs": [
    {
     "data": {
      "text/plain": [
       "'Little Red Riding-Hood Once upon a time, there lived in a certain village, a little country girl, the prettiest creature was ever seen. Her mother was excessively fond of her; and her grand-mother doated on her much more. This good woman got made for her a little red riding-hood; which became the girl so extremely well, that every body called her Little Red Riding-Hood. One day, her mother, having made some girdle-cakes, said to her: \"Go, my dear, and see how thy grand-mamma does, for I hear she has been very ill, carry her a girdle-cake, and this little pot of butter.\" Little Red Riding-Hood set out immediately to go to her grand-mother, who lived in another village. As she was going thro\\' the wood, she met with Gaffer Wolf, who had a very great mind to eat her up, but he durst not, because of some faggot-makers hard by in the forest. He asked her whither she was going. The poor child, who did not know that it was dangerous to stay and hear a Wolf talk, said to him: \"I am going to see my grand-mamma, and carry her a girdle-cake, and a little pot of butter, from my mamma.\" \"Does she live far off?\" said the Wolf. \"Oh! ay,\" answered Little Red Riding-Hood, \"it is beyond that mill you see there, at the first house in the village.\" \"Well,\" said the Wolf, \"and I\\'ll go and see her too: I\\'ll go this way, and you go that, and we shall see who will be there soonest.\" The Wolf began to run as fast as he could, taking the nearest way; and the little girl went by that farthest about, diverting herself in gathering nuts, running after butterflies, and making nosegays of such little flowers as she met with. The Wolf was not long before he got to the old woman\\'s house: he knocked at the door, _tap, tap_. \"Who\\'s there?\" \"Your grand-child, Little Red Riding-Hood,\" replied the Wolf, counterfeiting her voice, \"who has brought you a girdle-cake, and a little pot of butter, sent you by mamma.\" The good grand-mother, who was in bed, because she found herself somewhat ill, cry\\'d out: \"Pull the peg, and the bolt will fall.\" The Wolf pull\\'d the peg, and the door opened, and then presently he fell upon the good woman, and ate her up in a moment; for it was above three days that he had not touched a bit. He then shut the door, and went into the grand-mother\\'s bed, expecting Little Red Riding-Hood, who came some time afterwards, and knock\\'d at the door, _tap, tap_. \"Who\\'s there?\" [Illustration: \"HE ASKED HER WHITHER SHE WAS GOING\"] Little Red Riding-Hood, hearing the big voice of the Wolf, was at first afraid; but believing her grand-mother had got a cold, and was hoarse, answered: \"\\'Tis your grand-child, Little Red Riding-Hood, who has brought you a girdle-cake, and a little pot of butter, mamma sends you.\" The Wolf cried out to her, softening his voice as much as he could, \"Pull the peg, and the bolt will fall.\" Little Red Riding-Hood pulled the peg, and the door opened. The Wolf seeing her come in, said to her, hiding himself under the bedclothes: \"Put the cake, and the little pot of butter upon the bread-bin, and come and lye down with me.\" Little Red Riding-Hood undressed herself, and went into bed; where, being greatly amazed to see how her grand-mother looked in her night-cloaths, she said to her: \"Grand-mamma, what great arms you have got!\" \"That is the better to hug thee, my dear.\" \"Grand-mamma, what great legs you have got!\" \"That is to run the better, my child.\" \"Grand-mamma, what great ears you have got!\" \"That is to hear the better, my child.\" \"Grand-mamma, what great eyes you have got!\" \"It is to see the better, my child.\" \"Grand-mamma, what great teeth you have got!\" \"That is to eat thee up.\" And, saying these words, this wicked Wolf fell upon poor Little Red Riding-Hood, and ate her all up. '"
      ]
     },
     "execution_count": 3,
     "metadata": {},
     "output_type": "execute_result"
    }
   ],
   "source": [
    "file_url_perrault=r'../data/littleredrh/pg29021.txt'\n",
    "with open(file_url_perrault, 'r') as f:\n",
    "        contents_perrault = f.read()\n",
    "start_string_perrault='Little Red Riding-Hood\\n\\n'\n",
    "end_string_perrault='\\n\\n_The Moral_'\n",
    "text_perrault=contents_perrault[contents_perrault.find(start_string_perrault):contents_perrault.find(end_string_perrault)]\n",
    "text_perrault=text_perrault.replace('\\n',' ')\n",
    "text_perrault=re.sub(r\"\\s+\",\" \",text_perrault)\n",
    "text_perrault"
   ]
  },
  {
   "cell_type": "code",
   "execution_count": 4,
   "metadata": {},
   "outputs": [],
   "source": [
    "llrh_grimms_textrank=summarize(text_grimms,ratio=0.20)\n",
    "llrh_perrault_textrank=summarize(text_perrault,ratio=0.20)"
   ]
  },
  {
   "cell_type": "code",
   "execution_count": 5,
   "metadata": {},
   "outputs": [
    {
     "name": "stdout",
     "output_type": "stream",
     "text": [
      "LITTLE RED RIDING HOOD There was once a sweet little maid who lived with her father and mother in a pretty little cottage at the edge of the village.\n",
      "One morning Little Red Riding Hood's mother said, \"Put on your things and go to see your grandmother.\n",
      "\"What have you in that basket, Little Red Riding Hood?\" \"Eggs and butter and cake, Mr. Wolf.\" \"Where are you going with them, Little Red Riding Hood?\" \"I am going to my grandmother, who is ill, Mr. Wolf.\" \"Where does your grandmother live, Little Red Riding Hood?\" \"Along that path, past the wild rose bushes, then through the gate at the end of the wood, Mr. Wolf.\" Then Mr. Wolf again said \"Good morning\" and set off, and Little Red Riding Hood again went in search of wild flowers.\n",
      "\"Little Red Riding Hood,\" said the wicked wolf.\n"
     ]
    }
   ],
   "source": [
    "print(llrh_grimms_textrank)"
   ]
  },
  {
   "cell_type": "code",
   "execution_count": 6,
   "metadata": {},
   "outputs": [
    {
     "name": "stdout",
     "output_type": "stream",
     "text": [
      "\"Who's there?\" \"Your grand-child, Little Red Riding-Hood,\" replied the Wolf, counterfeiting her voice, \"who has brought you a girdle-cake, and a little pot of butter, sent you by mamma.\" The good grand-mother, who was in bed, because she found herself somewhat ill, cry'd out: \"Pull the peg, and the bolt will fall.\" The Wolf pull'd the peg, and the door opened, and then presently he fell upon the good woman, and ate her up in a moment; for it was above three days that he had not touched a bit.\n",
      "\"Who's there?\" [Illustration: \"HE ASKED HER WHITHER SHE WAS GOING\"] Little Red Riding-Hood, hearing the big voice of the Wolf, was at first afraid; but believing her grand-mother had got a cold, and was hoarse, answered: \"'Tis your grand-child, Little Red Riding-Hood, who has brought you a girdle-cake, and a little pot of butter, mamma sends you.\" The Wolf cried out to her, softening his voice as much as he could, \"Pull the peg, and the bolt will fall.\" Little Red Riding-Hood pulled the peg, and the door opened.\n"
     ]
    }
   ],
   "source": [
    "print(llrh_perrault_textrank)"
   ]
  },
  {
   "cell_type": "code",
   "execution_count": 7,
   "metadata": {},
   "outputs": [],
   "source": [
    "llrh_grimms_textrank=summarize(text_grimms,ratio=0.5)\n",
    "llrh_perrault_textrank=summarize(text_perrault,ratio=0.5)"
   ]
  },
  {
   "cell_type": "code",
   "execution_count": 8,
   "metadata": {},
   "outputs": [
    {
     "name": "stdout",
     "output_type": "stream",
     "text": [
      "LITTLE RED RIDING HOOD There was once a sweet little maid who lived with her father and mother in a pretty little cottage at the edge of the village.\n",
      "At the further end of the wood was another pretty cottage and in it lived her grandmother.\n",
      "One morning Little Red Riding Hood's mother said, \"Put on your things and go to see your grandmother.\n",
      "Little Red Riding Hood wandered from her path and was stooping to pick a flower when from behind her a gruff voice said, \"Good morning, Little Red Riding Hood.\" Little Red Riding Hood turned around and saw a great big wolf, but Little Red Riding Hood did not know what a wicked beast the wolf was, so she was not afraid.\n",
      "\"What have you in that basket, Little Red Riding Hood?\" \"Eggs and butter and cake, Mr. Wolf.\" \"Where are you going with them, Little Red Riding Hood?\" \"I am going to my grandmother, who is ill, Mr. Wolf.\" \"Where does your grandmother live, Little Red Riding Hood?\" \"Along that path, past the wild rose bushes, then through the gate at the end of the wood, Mr. Wolf.\" Then Mr. Wolf again said \"Good morning\" and set off, and Little Red Riding Hood again went in search of wild flowers.\n",
      "\"Little Red Riding Hood,\" said the wicked wolf.\n",
      "The wolf pressed the latch, and walked in where the grandmother lay in bed.\n",
      "In a short while Little Red Riding Hood knocked at the door, and walked in, saying, \"Good morning, Grandmother, I have brought you eggs, butter and cake, and here is a bunch of flowers I gathered in the wood.\" As she came nearer the bed she said, \"What big ears you have, Grandmother.\" \"All the better to hear you with, my dear.\" \"What big eyes you have, Grandmother.\" \"All the better to see you with, my dear.\" \"But, Grandmother, what a big nose you have.\" \"All the better to smell with, my dear.\" \"But, Grandmother, what a big mouth you have.\" \"All the better to eat you up with, my dear,\" he said as he sprang at Little Red Riding Hood.\n",
      "Just at that moment Little Red Riding Hood's father was passing the cottage and heard her scream.\n",
      "Everybody was happy that Little Red Riding Hood had escaped the wolf.\n",
      "Then Little Red Riding Hood's father carried her home and they lived happily ever after.\n"
     ]
    }
   ],
   "source": [
    "print(llrh_grimms_textrank)"
   ]
  },
  {
   "cell_type": "code",
   "execution_count": 9,
   "metadata": {},
   "outputs": [
    {
     "name": "stdout",
     "output_type": "stream",
     "text": [
      "One day, her mother, having made some girdle-cakes, said to her: \"Go, my dear, and see how thy grand-mamma does, for I hear she has been very ill, carry her a girdle-cake, and this little pot of butter.\" Little Red Riding-Hood set out immediately to go to her grand-mother, who lived in another village.\n",
      "The poor child, who did not know that it was dangerous to stay and hear a Wolf talk, said to him: \"I am going to see my grand-mamma, and carry her a girdle-cake, and a little pot of butter, from my mamma.\" \"Does she live far off?\" said the Wolf.\n",
      "\"Who's there?\" \"Your grand-child, Little Red Riding-Hood,\" replied the Wolf, counterfeiting her voice, \"who has brought you a girdle-cake, and a little pot of butter, sent you by mamma.\" The good grand-mother, who was in bed, because she found herself somewhat ill, cry'd out: \"Pull the peg, and the bolt will fall.\" The Wolf pull'd the peg, and the door opened, and then presently he fell upon the good woman, and ate her up in a moment; for it was above three days that he had not touched a bit.\n",
      "He then shut the door, and went into the grand-mother's bed, expecting Little Red Riding-Hood, who came some time afterwards, and knock'd at the door, _tap, tap_.\n",
      "\"Who's there?\" [Illustration: \"HE ASKED HER WHITHER SHE WAS GOING\"] Little Red Riding-Hood, hearing the big voice of the Wolf, was at first afraid; but believing her grand-mother had got a cold, and was hoarse, answered: \"'Tis your grand-child, Little Red Riding-Hood, who has brought you a girdle-cake, and a little pot of butter, mamma sends you.\" The Wolf cried out to her, softening his voice as much as he could, \"Pull the peg, and the bolt will fall.\" Little Red Riding-Hood pulled the peg, and the door opened.\n",
      "The Wolf seeing her come in, said to her, hiding himself under the bedclothes: \"Put the cake, and the little pot of butter upon the bread-bin, and come and lye down with me.\" Little Red Riding-Hood undressed herself, and went into bed; where, being greatly amazed to see how her grand-mother looked in her night-cloaths, she said to her: \"Grand-mamma, what great arms you have got!\" \"That is the better to hug thee, my dear.\" \"Grand-mamma, what great legs you have got!\" \"That is to run the better, my child.\" \"Grand-mamma, what great ears you have got!\" \"That is to hear the better, my child.\" \"Grand-mamma, what great eyes you have got!\" \"It is to see the better, my child.\" \"Grand-mamma, what great teeth you have got!\" \"That is to eat thee up.\" And, saying these words, this wicked Wolf fell upon poor Little Red Riding-Hood, and ate her all up.\n"
     ]
    }
   ],
   "source": [
    "print(llrh_perrault_textrank)"
   ]
  }
 ],
 "metadata": {
  "kernelspec": {
   "display_name": "Python 3",
   "language": "python",
   "name": "python3"
  },
  "language_info": {
   "codemirror_mode": {
    "name": "ipython",
    "version": 3
   },
   "file_extension": ".py",
   "mimetype": "text/x-python",
   "name": "python",
   "nbconvert_exporter": "python",
   "pygments_lexer": "ipython3",
   "version": "3.7.3"
  }
 },
 "nbformat": 4,
 "nbformat_minor": 4
}
