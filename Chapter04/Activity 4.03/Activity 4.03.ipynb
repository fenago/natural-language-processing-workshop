{
 "cells": [
  {
   "cell_type": "markdown",
   "metadata": {},
   "source": [
    "# Activity 4: Extracting data from Twitter"
   ]
  },
  {
   "cell_type": "markdown",
   "metadata": {},
   "source": [
    "Extract 100 tweets from Twitter using tweepy library having hashtag '#climatechange' and load them into pandas dataframe"
   ]
  },
  {
   "cell_type": "code",
   "execution_count": 1,
   "metadata": {},
   "outputs": [],
   "source": [
    "# !pip install tweepy"
   ]
  },
  {
   "cell_type": "markdown",
   "metadata": {},
   "source": [
    "# Twitter developer app registration\n",
    "1. Login to twitter <br>\n",
    "2. Go to https://developer.twitter.com/en/apps <br>\n",
    "3. Create an app <br>\n",
    "4. Once app is created, Go to 'Keys and tokens' tab; copy consumer_key, consumer_secret, access_token, access_token_secret from there  <br>"
   ]
  },
  {
   "cell_type": "code",
   "execution_count": 2,
   "metadata": {},
   "outputs": [],
   "source": [
    "consumer_key = 'your_consumer_key'\n",
    "consumer_secret = 'your_consumer_secret'\n",
    "access_token = 'your_access_token'\n",
    "access_token_secret = 'your_access_token_secret'"
   ]
  },
  {
   "cell_type": "code",
   "execution_count": 3,
   "metadata": {},
   "outputs": [],
   "source": [
    "import pandas as pd\n",
    "import json\n",
    "from pprint import pprint"
   ]
  },
  {
   "cell_type": "code",
   "execution_count": 4,
   "metadata": {},
   "outputs": [],
   "source": [
    "import tweepy\n",
    "\n",
    "auth = tweepy.OAuthHandler(consumer_key, consumer_secret)\n",
    "auth.set_access_token(access_token, access_token_secret)\n",
    "\n",
    "api = tweepy.API(auth)"
   ]
  },
  {
   "cell_type": "code",
   "execution_count": 5,
   "metadata": {},
   "outputs": [],
   "source": [
    "tweet_list = []\n",
    "for tweet in tweepy.Cursor(api.search, q='#climatechange', lang=\"en\").items(100):\n",
    "    tweet_list.append(tweet)"
   ]
  },
  {
   "cell_type": "code",
   "execution_count": 6,
   "metadata": {},
   "outputs": [
    {
     "data": {
      "text/plain": [
       "100"
      ]
     },
     "execution_count": 6,
     "metadata": {},
     "output_type": "execute_result"
    }
   ],
   "source": [
    "len(tweet_list)"
   ]
  },
  {
   "cell_type": "code",
   "execution_count": 7,
   "metadata": {},
   "outputs": [
    {
     "data": {
      "text/plain": [
       "Status(_api=<tweepy.api.API object at 0x11cb6f550>, _json={'created_at': 'Sun Jan 26 12:42:47 +0000 2020', 'id': 1221413171245801472, 'id_str': '1221413171245801472', 'text': 'The latest The Passivhaus Daily! https://t.co/sPqQhgSRdo Thanks to @TheMarkofPolo @PeterGleick @boris_kapkov #passivehouse #climatechange', 'truncated': False, 'entities': {'hashtags': [{'text': 'passivehouse', 'indices': [109, 122]}, {'text': 'climatechange', 'indices': [123, 137]}], 'symbols': [], 'user_mentions': [{'screen_name': 'TheMarkofPolo', 'name': 'Mark Ostendorf', 'id': 37373892, 'id_str': '37373892', 'indices': [67, 81]}, {'screen_name': 'PeterGleick', 'name': 'Peter Gleick', 'id': 146123790, 'id_str': '146123790', 'indices': [82, 94]}, {'screen_name': 'boris_kapkov', 'name': 'Boris Kapkov', 'id': 487757126, 'id_str': '487757126', 'indices': [95, 108]}], 'urls': [{'url': 'https://t.co/sPqQhgSRdo', 'expanded_url': 'https://paper.li/greenhhome/green-passivehouse-design?edition_id=59bfd880-4039-11ea-ae35-0cc47a0d15fd', 'display_url': 'paper.li/greenhhome/gre…', 'indices': [33, 56]}]}, 'metadata': {'iso_language_code': 'en', 'result_type': 'recent'}, 'source': '<a href=\"https://paper.li\" rel=\"nofollow\">Paper.li</a>', 'in_reply_to_status_id': None, 'in_reply_to_status_id_str': None, 'in_reply_to_user_id': None, 'in_reply_to_user_id_str': None, 'in_reply_to_screen_name': None, 'user': {'id': 67737952, 'id_str': '67737952', 'name': 'Green Harmony Home', 'screen_name': 'GreenHHome', 'location': 'International', 'description': \"We design superior green passive solar homes, passive houses, nZEB that meet our clients' needs, renewing & remodeling design, drafting services\", 'url': 'http://t.co/ZnLopAvvWP', 'entities': {'url': {'urls': [{'url': 'http://t.co/ZnLopAvvWP', 'expanded_url': 'http://greenharmonyhome.com/', 'display_url': 'greenharmonyhome.com', 'indices': [0, 22]}]}, 'description': {'urls': []}}, 'protected': False, 'followers_count': 8730, 'friends_count': 2439, 'listed_count': 925, 'created_at': 'Fri Aug 21 22:27:06 +0000 2009', 'favourites_count': 39, 'utc_offset': None, 'time_zone': None, 'geo_enabled': False, 'verified': False, 'statuses_count': 17812, 'lang': None, 'contributors_enabled': False, 'is_translator': False, 'is_translation_enabled': False, 'profile_background_color': '128039', 'profile_background_image_url': 'http://abs.twimg.com/images/themes/theme17/bg.gif', 'profile_background_image_url_https': 'https://abs.twimg.com/images/themes/theme17/bg.gif', 'profile_background_tile': True, 'profile_image_url': 'http://pbs.twimg.com/profile_images/1277178081/ghh_logo2_normal.jpg', 'profile_image_url_https': 'https://pbs.twimg.com/profile_images/1277178081/ghh_logo2_normal.jpg', 'profile_banner_url': 'https://pbs.twimg.com/profile_banners/67737952/1492599823', 'profile_link_color': '91B54D', 'profile_sidebar_border_color': '17732B', 'profile_sidebar_fill_color': 'FFFFFF', 'profile_text_color': '088F06', 'profile_use_background_image': True, 'has_extended_profile': False, 'default_profile': False, 'default_profile_image': False, 'following': False, 'follow_request_sent': False, 'notifications': False, 'translator_type': 'none'}, 'geo': None, 'coordinates': None, 'place': None, 'contributors': None, 'is_quote_status': False, 'retweet_count': 0, 'favorite_count': 0, 'favorited': False, 'retweeted': False, 'possibly_sensitive': False, 'lang': 'en'}, created_at=datetime.datetime(2020, 1, 26, 12, 42, 47), id=1221413171245801472, id_str='1221413171245801472', text='The latest The Passivhaus Daily! https://t.co/sPqQhgSRdo Thanks to @TheMarkofPolo @PeterGleick @boris_kapkov #passivehouse #climatechange', truncated=False, entities={'hashtags': [{'text': 'passivehouse', 'indices': [109, 122]}, {'text': 'climatechange', 'indices': [123, 137]}], 'symbols': [], 'user_mentions': [{'screen_name': 'TheMarkofPolo', 'name': 'Mark Ostendorf', 'id': 37373892, 'id_str': '37373892', 'indices': [67, 81]}, {'screen_name': 'PeterGleick', 'name': 'Peter Gleick', 'id': 146123790, 'id_str': '146123790', 'indices': [82, 94]}, {'screen_name': 'boris_kapkov', 'name': 'Boris Kapkov', 'id': 487757126, 'id_str': '487757126', 'indices': [95, 108]}], 'urls': [{'url': 'https://t.co/sPqQhgSRdo', 'expanded_url': 'https://paper.li/greenhhome/green-passivehouse-design?edition_id=59bfd880-4039-11ea-ae35-0cc47a0d15fd', 'display_url': 'paper.li/greenhhome/gre…', 'indices': [33, 56]}]}, metadata={'iso_language_code': 'en', 'result_type': 'recent'}, source='Paper.li', source_url='https://paper.li', in_reply_to_status_id=None, in_reply_to_status_id_str=None, in_reply_to_user_id=None, in_reply_to_user_id_str=None, in_reply_to_screen_name=None, author=User(_api=<tweepy.api.API object at 0x11cb6f550>, _json={'id': 67737952, 'id_str': '67737952', 'name': 'Green Harmony Home', 'screen_name': 'GreenHHome', 'location': 'International', 'description': \"We design superior green passive solar homes, passive houses, nZEB that meet our clients' needs, renewing & remodeling design, drafting services\", 'url': 'http://t.co/ZnLopAvvWP', 'entities': {'url': {'urls': [{'url': 'http://t.co/ZnLopAvvWP', 'expanded_url': 'http://greenharmonyhome.com/', 'display_url': 'greenharmonyhome.com', 'indices': [0, 22]}]}, 'description': {'urls': []}}, 'protected': False, 'followers_count': 8730, 'friends_count': 2439, 'listed_count': 925, 'created_at': 'Fri Aug 21 22:27:06 +0000 2009', 'favourites_count': 39, 'utc_offset': None, 'time_zone': None, 'geo_enabled': False, 'verified': False, 'statuses_count': 17812, 'lang': None, 'contributors_enabled': False, 'is_translator': False, 'is_translation_enabled': False, 'profile_background_color': '128039', 'profile_background_image_url': 'http://abs.twimg.com/images/themes/theme17/bg.gif', 'profile_background_image_url_https': 'https://abs.twimg.com/images/themes/theme17/bg.gif', 'profile_background_tile': True, 'profile_image_url': 'http://pbs.twimg.com/profile_images/1277178081/ghh_logo2_normal.jpg', 'profile_image_url_https': 'https://pbs.twimg.com/profile_images/1277178081/ghh_logo2_normal.jpg', 'profile_banner_url': 'https://pbs.twimg.com/profile_banners/67737952/1492599823', 'profile_link_color': '91B54D', 'profile_sidebar_border_color': '17732B', 'profile_sidebar_fill_color': 'FFFFFF', 'profile_text_color': '088F06', 'profile_use_background_image': True, 'has_extended_profile': False, 'default_profile': False, 'default_profile_image': False, 'following': False, 'follow_request_sent': False, 'notifications': False, 'translator_type': 'none'}, id=67737952, id_str='67737952', name='Green Harmony Home', screen_name='GreenHHome', location='International', description=\"We design superior green passive solar homes, passive houses, nZEB that meet our clients' needs, renewing & remodeling design, drafting services\", url='http://t.co/ZnLopAvvWP', entities={'url': {'urls': [{'url': 'http://t.co/ZnLopAvvWP', 'expanded_url': 'http://greenharmonyhome.com/', 'display_url': 'greenharmonyhome.com', 'indices': [0, 22]}]}, 'description': {'urls': []}}, protected=False, followers_count=8730, friends_count=2439, listed_count=925, created_at=datetime.datetime(2009, 8, 21, 22, 27, 6), favourites_count=39, utc_offset=None, time_zone=None, geo_enabled=False, verified=False, statuses_count=17812, lang=None, contributors_enabled=False, is_translator=False, is_translation_enabled=False, profile_background_color='128039', profile_background_image_url='http://abs.twimg.com/images/themes/theme17/bg.gif', profile_background_image_url_https='https://abs.twimg.com/images/themes/theme17/bg.gif', profile_background_tile=True, profile_image_url='http://pbs.twimg.com/profile_images/1277178081/ghh_logo2_normal.jpg', profile_image_url_https='https://pbs.twimg.com/profile_images/1277178081/ghh_logo2_normal.jpg', profile_banner_url='https://pbs.twimg.com/profile_banners/67737952/1492599823', profile_link_color='91B54D', profile_sidebar_border_color='17732B', profile_sidebar_fill_color='FFFFFF', profile_text_color='088F06', profile_use_background_image=True, has_extended_profile=False, default_profile=False, default_profile_image=False, following=False, follow_request_sent=False, notifications=False, translator_type='none'), user=User(_api=<tweepy.api.API object at 0x11cb6f550>, _json={'id': 67737952, 'id_str': '67737952', 'name': 'Green Harmony Home', 'screen_name': 'GreenHHome', 'location': 'International', 'description': \"We design superior green passive solar homes, passive houses, nZEB that meet our clients' needs, renewing & remodeling design, drafting services\", 'url': 'http://t.co/ZnLopAvvWP', 'entities': {'url': {'urls': [{'url': 'http://t.co/ZnLopAvvWP', 'expanded_url': 'http://greenharmonyhome.com/', 'display_url': 'greenharmonyhome.com', 'indices': [0, 22]}]}, 'description': {'urls': []}}, 'protected': False, 'followers_count': 8730, 'friends_count': 2439, 'listed_count': 925, 'created_at': 'Fri Aug 21 22:27:06 +0000 2009', 'favourites_count': 39, 'utc_offset': None, 'time_zone': None, 'geo_enabled': False, 'verified': False, 'statuses_count': 17812, 'lang': None, 'contributors_enabled': False, 'is_translator': False, 'is_translation_enabled': False, 'profile_background_color': '128039', 'profile_background_image_url': 'http://abs.twimg.com/images/themes/theme17/bg.gif', 'profile_background_image_url_https': 'https://abs.twimg.com/images/themes/theme17/bg.gif', 'profile_background_tile': True, 'profile_image_url': 'http://pbs.twimg.com/profile_images/1277178081/ghh_logo2_normal.jpg', 'profile_image_url_https': 'https://pbs.twimg.com/profile_images/1277178081/ghh_logo2_normal.jpg', 'profile_banner_url': 'https://pbs.twimg.com/profile_banners/67737952/1492599823', 'profile_link_color': '91B54D', 'profile_sidebar_border_color': '17732B', 'profile_sidebar_fill_color': 'FFFFFF', 'profile_text_color': '088F06', 'profile_use_background_image': True, 'has_extended_profile': False, 'default_profile': False, 'default_profile_image': False, 'following': False, 'follow_request_sent': False, 'notifications': False, 'translator_type': 'none'}, id=67737952, id_str='67737952', name='Green Harmony Home', screen_name='GreenHHome', location='International', description=\"We design superior green passive solar homes, passive houses, nZEB that meet our clients' needs, renewing & remodeling design, drafting services\", url='http://t.co/ZnLopAvvWP', entities={'url': {'urls': [{'url': 'http://t.co/ZnLopAvvWP', 'expanded_url': 'http://greenharmonyhome.com/', 'display_url': 'greenharmonyhome.com', 'indices': [0, 22]}]}, 'description': {'urls': []}}, protected=False, followers_count=8730, friends_count=2439, listed_count=925, created_at=datetime.datetime(2009, 8, 21, 22, 27, 6), favourites_count=39, utc_offset=None, time_zone=None, geo_enabled=False, verified=False, statuses_count=17812, lang=None, contributors_enabled=False, is_translator=False, is_translation_enabled=False, profile_background_color='128039', profile_background_image_url='http://abs.twimg.com/images/themes/theme17/bg.gif', profile_background_image_url_https='https://abs.twimg.com/images/themes/theme17/bg.gif', profile_background_tile=True, profile_image_url='http://pbs.twimg.com/profile_images/1277178081/ghh_logo2_normal.jpg', profile_image_url_https='https://pbs.twimg.com/profile_images/1277178081/ghh_logo2_normal.jpg', profile_banner_url='https://pbs.twimg.com/profile_banners/67737952/1492599823', profile_link_color='91B54D', profile_sidebar_border_color='17732B', profile_sidebar_fill_color='FFFFFF', profile_text_color='088F06', profile_use_background_image=True, has_extended_profile=False, default_profile=False, default_profile_image=False, following=False, follow_request_sent=False, notifications=False, translator_type='none'), geo=None, coordinates=None, place=None, contributors=None, is_quote_status=False, retweet_count=0, favorite_count=0, favorited=False, retweeted=False, possibly_sensitive=False, lang='en')"
      ]
     },
     "execution_count": 7,
     "metadata": {},
     "output_type": "execute_result"
    }
   ],
   "source": [
    "tweet_list[0]"
   ]
  },
  {
   "cell_type": "code",
   "execution_count": 8,
   "metadata": {},
   "outputs": [
    {
     "name": "stdout",
     "output_type": "stream",
     "text": [
      "{'contributors': None,\n",
      " 'coordinates': None,\n",
      " 'created_at': 'Sun Jan 26 12:42:47 +0000 2020',\n",
      " 'entities': {'hashtags': [{'indices': [109, 122], 'text': 'passivehouse'},\n",
      "                           {'indices': [123, 137], 'text': 'climatechange'}],\n",
      "              'symbols': [],\n",
      "              'urls': [{'display_url': 'paper.li/greenhhome/gre…',\n",
      "                        'expanded_url': 'https://paper.li/greenhhome/green-passivehouse-design?edition_id=59bfd880-4039-11ea-ae35-0cc47a0d15fd',\n",
      "                        'indices': [33, 56],\n",
      "                        'url': 'https://t.co/sPqQhgSRdo'}],\n",
      "              'user_mentions': [{'id': 37373892,\n",
      "                                 'id_str': '37373892',\n",
      "                                 'indices': [67, 81],\n",
      "                                 'name': 'Mark Ostendorf',\n",
      "                                 'screen_name': 'TheMarkofPolo'},\n",
      "                                {'id': 146123790,\n",
      "                                 'id_str': '146123790',\n",
      "                                 'indices': [82, 94],\n",
      "                                 'name': 'Peter Gleick',\n",
      "                                 'screen_name': 'PeterGleick'},\n",
      "                                {'id': 487757126,\n",
      "                                 'id_str': '487757126',\n",
      "                                 'indices': [95, 108],\n",
      "                                 'name': 'Boris Kapkov',\n",
      "                                 'screen_name': 'boris_kapkov'}]},\n",
      " 'favorite_count': 0,\n",
      " 'favorited': False,\n",
      " 'geo': None,\n",
      " 'id': 1221413171245801472,\n",
      " 'id_str': '1221413171245801472',\n",
      " 'in_reply_to_screen_name': None,\n",
      " 'in_reply_to_status_id': None,\n",
      " 'in_reply_to_status_id_str': None,\n",
      " 'in_reply_to_user_id': None,\n",
      " 'in_reply_to_user_id_str': None,\n",
      " 'is_quote_status': False,\n",
      " 'lang': 'en',\n",
      " 'metadata': {'iso_language_code': 'en', 'result_type': 'recent'},\n",
      " 'place': None,\n",
      " 'possibly_sensitive': False,\n",
      " 'retweet_count': 0,\n",
      " 'retweeted': False,\n",
      " 'source': '<a href=\"https://paper.li\" rel=\"nofollow\">Paper.li</a>',\n",
      " 'text': 'The latest The Passivhaus Daily! https://t.co/sPqQhgSRdo Thanks to '\n",
      "         '@TheMarkofPolo @PeterGleick @boris_kapkov #passivehouse '\n",
      "         '#climatechange',\n",
      " 'truncated': False,\n",
      " 'user': {'contributors_enabled': False,\n",
      "          'created_at': 'Fri Aug 21 22:27:06 +0000 2009',\n",
      "          'default_profile': False,\n",
      "          'default_profile_image': False,\n",
      "          'description': 'We design superior green passive solar homes, '\n",
      "                         \"passive houses, nZEB that meet our clients' needs, \"\n",
      "                         'renewing & remodeling design, drafting services',\n",
      "          'entities': {'description': {'urls': []},\n",
      "                       'url': {'urls': [{'display_url': 'greenharmonyhome.com',\n",
      "                                         'expanded_url': 'http://greenharmonyhome.com/',\n",
      "                                         'indices': [0, 22],\n",
      "                                         'url': 'http://t.co/ZnLopAvvWP'}]}},\n",
      "          'favourites_count': 39,\n",
      "          'follow_request_sent': False,\n",
      "          'followers_count': 8730,\n",
      "          'following': False,\n",
      "          'friends_count': 2439,\n",
      "          'geo_enabled': False,\n",
      "          'has_extended_profile': False,\n",
      "          'id': 67737952,\n",
      "          'id_str': '67737952',\n",
      "          'is_translation_enabled': False,\n",
      "          'is_translator': False,\n",
      "          'lang': None,\n",
      "          'listed_count': 925,\n",
      "          'location': 'International',\n",
      "          'name': 'Green Harmony Home',\n",
      "          'notifications': False,\n",
      "          'profile_background_color': '128039',\n",
      "          'profile_background_image_url': 'http://abs.twimg.com/images/themes/theme17/bg.gif',\n",
      "          'profile_background_image_url_https': 'https://abs.twimg.com/images/themes/theme17/bg.gif',\n",
      "          'profile_background_tile': True,\n",
      "          'profile_banner_url': 'https://pbs.twimg.com/profile_banners/67737952/1492599823',\n",
      "          'profile_image_url': 'http://pbs.twimg.com/profile_images/1277178081/ghh_logo2_normal.jpg',\n",
      "          'profile_image_url_https': 'https://pbs.twimg.com/profile_images/1277178081/ghh_logo2_normal.jpg',\n",
      "          'profile_link_color': '91B54D',\n",
      "          'profile_sidebar_border_color': '17732B',\n",
      "          'profile_sidebar_fill_color': 'FFFFFF',\n",
      "          'profile_text_color': '088F06',\n",
      "          'profile_use_background_image': True,\n",
      "          'protected': False,\n",
      "          'screen_name': 'GreenHHome',\n",
      "          'statuses_count': 17812,\n",
      "          'time_zone': None,\n",
      "          'translator_type': 'none',\n",
      "          'url': 'http://t.co/ZnLopAvvWP',\n",
      "          'utc_offset': None,\n",
      "          'verified': False}}\n"
     ]
    }
   ],
   "source": [
    "status = tweet_list[0]\n",
    "status_json = status._json\n",
    "pprint(status_json)"
   ]
  },
  {
   "cell_type": "code",
   "execution_count": 9,
   "metadata": {},
   "outputs": [
    {
     "data": {
      "text/plain": [
       "'The latest The Passivhaus Daily! https://t.co/sPqQhgSRdo Thanks to @TheMarkofPolo @PeterGleick @boris_kapkov #passivehouse #climatechange'"
      ]
     },
     "execution_count": 9,
     "metadata": {},
     "output_type": "execute_result"
    }
   ],
   "source": [
    "status_json['text']"
   ]
  },
  {
   "cell_type": "code",
   "execution_count": 11,
   "metadata": {},
   "outputs": [],
   "source": [
    "tweets = []\n",
    "for twt in tweet_list:\n",
    "    tweets.append(twt._json['text'])"
   ]
  },
  {
   "cell_type": "markdown",
   "metadata": {},
   "source": [
    "## Creating dataframe consists of texts of tweets"
   ]
  },
  {
   "cell_type": "code",
   "execution_count": 12,
   "metadata": {},
   "outputs": [
    {
     "data": {
      "text/html": [
       "<div>\n",
       "<style scoped>\n",
       "    .dataframe tbody tr th:only-of-type {\n",
       "        vertical-align: middle;\n",
       "    }\n",
       "\n",
       "    .dataframe tbody tr th {\n",
       "        vertical-align: top;\n",
       "    }\n",
       "\n",
       "    .dataframe thead th {\n",
       "        text-align: right;\n",
       "    }\n",
       "</style>\n",
       "<table border=\"1\" class=\"dataframe\">\n",
       "  <thead>\n",
       "    <tr style=\"text-align: right;\">\n",
       "      <th></th>\n",
       "      <th>tweet_text</th>\n",
       "    </tr>\n",
       "  </thead>\n",
       "  <tbody>\n",
       "    <tr>\n",
       "      <th>0</th>\n",
       "      <td>The latest The Passivhaus Daily! https://t.co/...</td>\n",
       "    </tr>\n",
       "    <tr>\n",
       "      <th>1</th>\n",
       "      <td>RT @GabeFilippelli: Disgusting abuse of power,...</td>\n",
       "    </tr>\n",
       "    <tr>\n",
       "      <th>2</th>\n",
       "      <td>RT @Nornenland: #Australia dust storms are #so...</td>\n",
       "    </tr>\n",
       "    <tr>\n",
       "      <th>3</th>\n",
       "      <td>RT @Tiredearth: Cropping out a Black #climatea...</td>\n",
       "    </tr>\n",
       "    <tr>\n",
       "      <th>4</th>\n",
       "      <td>RT @Jo_WhiteheadUK: Train price for 2 people t...</td>\n",
       "    </tr>\n",
       "  </tbody>\n",
       "</table>\n",
       "</div>"
      ],
      "text/plain": [
       "                                          tweet_text\n",
       "0  The latest The Passivhaus Daily! https://t.co/...\n",
       "1  RT @GabeFilippelli: Disgusting abuse of power,...\n",
       "2  RT @Nornenland: #Australia dust storms are #so...\n",
       "3  RT @Tiredearth: Cropping out a Black #climatea...\n",
       "4  RT @Jo_WhiteheadUK: Train price for 2 people t..."
      ]
     },
     "execution_count": 12,
     "metadata": {},
     "output_type": "execute_result"
    }
   ],
   "source": [
    "tweet_text_df = pd.DataFrame({'tweet_text' : tweets})\n",
    "tweet_text_df.head()"
   ]
  },
  {
   "cell_type": "code",
   "execution_count": null,
   "metadata": {},
   "outputs": [],
   "source": []
  }
 ],
 "metadata": {
  "kernelspec": {
   "display_name": "Python 3",
   "language": "python",
   "name": "python3"
  },
  "language_info": {
   "codemirror_mode": {
    "name": "ipython",
    "version": 3
   },
   "file_extension": ".py",
   "mimetype": "text/x-python",
   "name": "python",
   "nbconvert_exporter": "python",
   "pygments_lexer": "ipython3",
   "version": "3.7.6"
  }
 },
 "nbformat": 4,
 "nbformat_minor": 2
}
