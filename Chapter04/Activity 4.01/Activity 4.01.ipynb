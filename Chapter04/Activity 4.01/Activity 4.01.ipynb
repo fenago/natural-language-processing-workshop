{
 "cells": [
  {
   "cell_type": "markdown",
   "metadata": {},
   "source": [
    "# Activity 1\n",
    "Read the wikipedia page about Rabindranath Tagore. Extract the following information from it: <br>\n",
    "i) List of headings under Section Works <br>\n",
    "ii) List of his Works <br>\n",
    "iii) List of Universities named after him <br>"
   ]
  },
  {
   "cell_type": "code",
   "execution_count": 1,
   "metadata": {},
   "outputs": [],
   "source": [
    "import requests\n",
    "from bs4 import BeautifulSoup"
   ]
  },
  {
   "cell_type": "code",
   "execution_count": 2,
   "metadata": {},
   "outputs": [],
   "source": [
    "r = requests.get('https://en.wikipedia.org/wiki/Rabindranath_Tagore')"
   ]
  },
  {
   "cell_type": "code",
   "execution_count": 3,
   "metadata": {},
   "outputs": [
    {
     "data": {
      "text/plain": [
       "200"
      ]
     },
     "execution_count": 3,
     "metadata": {},
     "output_type": "execute_result"
    }
   ],
   "source": [
    "r.status_code"
   ]
  },
  {
   "cell_type": "code",
   "execution_count": 4,
   "metadata": {},
   "outputs": [],
   "source": [
    "soup = BeautifulSoup(r.text, 'html.parser')"
   ]
  },
  {
   "cell_type": "markdown",
   "metadata": {},
   "source": [
    "# List of headings under Section Works"
   ]
  },
  {
   "cell_type": "code",
   "execution_count": 5,
   "metadata": {},
   "outputs": [
    {
     "name": "stdout",
     "output_type": "stream",
     "text": [
      "Drama\n",
      "Short_stories\n",
      "Novels\n",
      "Poetry\n",
      "Songs_(Rabindra_Sangeet)\n",
      "Art_works\n"
     ]
    }
   ],
   "source": [
    "for element in soup.find_all('h3', limit=6):\n",
    "    spans = element.find('span', attrs={'class':\"mw-headline\"})\n",
    "    print(spans['id'])"
   ]
  },
  {
   "cell_type": "markdown",
   "metadata": {},
   "source": [
    "# Works by Tagore"
   ]
  },
  {
   "cell_type": "code",
   "execution_count": 6,
   "metadata": {},
   "outputs": [
    {
     "name": "stdout",
     "output_type": "stream",
     "text": [
      "* ভানুসিংহ ঠাকুরের পদাবলী\n",
      "Bhānusiṃha Ṭhākurer Paḍāvalī\n",
      "(Songs of Bhānusiṃha Ṭhākur)\n",
      "1884\n",
      "\n",
      "* মানসী\n",
      "Manasi\n",
      "(The Ideal One)\n",
      "1890\n",
      "\n",
      "* সোনার তরী\n",
      "Sonar Tari\n",
      "(The Golden Boat)\n",
      "1894\n",
      "\n",
      "* গীতাঞ্জলি\n",
      "Gitanjali\n",
      "(Song Offerings)\n",
      "1910\n",
      "\n",
      "* গীতিমাল্য\n",
      "Gitimalya\n",
      "(Wreath of Songs)\n",
      "1914\n",
      "\n",
      "* বলাকা\n",
      "Balaka\n",
      "(The Flight of Cranes)\n",
      "1916\n",
      "\n",
      "* বাল্মিকী প্রতিভা\n",
      "Valmiki-Pratibha\n",
      "(The Genius of Valmiki)\n",
      "1881\n",
      "\n",
      "* কালমৃগয়া\n",
      "Kal-Mrigaya\n",
      "(The Fatal Hunt)\n",
      "1882\n",
      "\n",
      "* মায়ার খেলা\n",
      "Mayar Khela\n",
      "(The Play of Illusions)\n",
      "1888\n",
      "\n",
      "* বিসর্জন\n",
      "Visarjan\n",
      "(The Sacrifice)\n",
      "1890\n",
      "\n",
      "* চিত্রাঙ্গদা\n",
      "Chitrangada\n",
      "(Chitrangada)\n",
      "1892\n",
      "\n",
      "* রাজা\n",
      "Raja\n",
      "(The King of the Dark Chamber)\n",
      "1910\n",
      "\n",
      "* ডাকঘর\n",
      "Dak Ghar\n",
      "(The Post Office)\n",
      "1912\n",
      "\n",
      "* অচলায়তন\n",
      "Achalayatan\n",
      "(The Immovable)\n",
      "1912\n",
      "\n",
      "* মুক্তধারা\n",
      "Muktadhara\n",
      "(The Waterfall)\n",
      "1922\n",
      "\n",
      "* রক্তকরবী\n",
      "Raktakarabi\n",
      "(Red Oleanders)\n",
      "1926\n",
      "\n",
      "* চণ্ডালিকা\n",
      "Chandalika\n",
      "(The Untouchable Girl)\n",
      "1933\n",
      "\n",
      "* নষ্টনীড়\n",
      "Nastanirh\n",
      "(The Broken Nest)\n",
      "1901\n",
      "\n",
      "* গোরা\n",
      "Gora\n",
      "(Fair-Faced)\n",
      "1910\n",
      "\n",
      "* ঘরে বাইরে\n",
      "Ghare Baire\n",
      "(The Home and the World)\n",
      "1916\n",
      "\n",
      "* যোগাযোগ\n",
      "Yogayog\n",
      "(Crosscurrents)\n",
      "1929\n",
      "\n",
      "* জীবনস্মৃতি\n",
      "Jivansmriti\n",
      "(My Reminiscences)\n",
      "1912\n",
      "\n",
      "* ছেলেবেলা\n",
      "Chhelebela\n",
      "(My Boyhood Days)\n",
      "1940\n",
      "\n",
      "\n",
      "\n"
     ]
    }
   ],
   "source": [
    "table = soup.find('table', attrs={'class':\"wikitable\"})\n",
    "for row in table.select('tr td'):\n",
    "    print(row.text)"
   ]
  },
  {
   "cell_type": "markdown",
   "metadata": {},
   "source": [
    "# List of Universities named after Tagore"
   ]
  },
  {
   "cell_type": "code",
   "execution_count": 7,
   "metadata": {},
   "outputs": [
    {
     "data": {
      "text/plain": [
       "['Rabindra Bharati University, Kolkata, India.',\n",
       " 'Rabindra University, Sahjadpur, Shirajganj, Bangladesh.[1]',\n",
       " 'Rabindranath Tagore University, Hojai, Assam, India',\n",
       " 'Rabindra Maitree University, Courtpara, Kustia,Bangladesh.[2]',\n",
       " 'Bishwakabi Rabindranath Tagore Hall, Jahangirnagar University, Bangladesh',\n",
       " 'Rabindra Nazrul Art Building, Arts Faculty, Islamic University, Bangladesh',\n",
       " 'Rabindra Library (Central), Assam University, India',\n",
       " 'Rabindra Srijonkala University, Keraniganj, Dhaka, Bangladesh']"
      ]
     },
     "execution_count": 7,
     "metadata": {},
     "output_type": "execute_result"
    }
   ],
   "source": [
    "[each.text.strip() for each in soup.find('ol') if each != '\\n']"
   ]
  },
  {
   "cell_type": "code",
   "execution_count": null,
   "metadata": {},
   "outputs": [],
   "source": []
  }
 ],
 "metadata": {
  "kernelspec": {
   "display_name": "Python 3",
   "language": "python",
   "name": "python3"
  },
  "language_info": {
   "codemirror_mode": {
    "name": "ipython",
    "version": 3
   },
   "file_extension": ".py",
   "mimetype": "text/x-python",
   "name": "python",
   "nbconvert_exporter": "python",
   "pygments_lexer": "ipython3",
   "version": "3.7.6"
  }
 },
 "nbformat": 4,
 "nbformat_minor": 2
}
