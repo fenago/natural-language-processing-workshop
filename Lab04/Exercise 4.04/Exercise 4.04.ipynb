{
 "cells": [
  {
   "cell_type": "markdown",
   "metadata": {},
   "source": [
    "# Exercise 4: Dealing with JSON files"
   ]
  },
  {
   "cell_type": "markdown",
   "metadata": {},
   "source": [
    "Extract the following from the 'file sample_json.json' <br>\n",
    "i) Name of students <br>\n",
    "ii) Their qualifications <br>\n",
    "iii) Their Additional Qualifications <br>"
   ]
  },
  {
   "cell_type": "code",
   "execution_count": 1,
   "metadata": {},
   "outputs": [],
   "source": [
    "import json\n",
    "from pprint import pprint"
   ]
  },
  {
   "cell_type": "code",
   "execution_count": 2,
   "metadata": {},
   "outputs": [
    {
     "name": "stdout",
     "output_type": "stream",
     "text": [
      "{'students': [{'name': 'Gangaram', 'qualification': 'B.Tech'},\n",
      "              {'name': 'Ganga', 'qualification': 'B.A.'},\n",
      "              {'additional qualification': 'M.Tech',\n",
      "               'name': 'Ram',\n",
      "               'qualification': 'B.Tech'},\n",
      "              {'name': 'Ramlal',\n",
      "               'other qualification': 'Diploma in Music',\n",
      "               'qualification': 'B.Music'}]}\n"
     ]
    }
   ],
   "source": [
    "data = json.load(open('../data/sample_json.json'))\n",
    "pprint(data)"
   ]
  },
  {
   "cell_type": "markdown",
   "metadata": {},
   "source": [
    "# Print names of Students"
   ]
  },
  {
   "cell_type": "code",
   "execution_count": 3,
   "metadata": {},
   "outputs": [
    {
     "data": {
      "text/plain": [
       "['Gangaram', 'Ganga', 'Ram', 'Ramlal']"
      ]
     },
     "execution_count": 3,
     "metadata": {},
     "output_type": "execute_result"
    }
   ],
   "source": [
    "[dt['name'] for dt in data['students']]"
   ]
  },
  {
   "cell_type": "markdown",
   "metadata": {},
   "source": [
    "# Print Qualifications of Students"
   ]
  },
  {
   "cell_type": "code",
   "execution_count": 4,
   "metadata": {},
   "outputs": [
    {
     "data": {
      "text/plain": [
       "['B.Tech', 'B.A.', 'B.Tech', 'B.Music']"
      ]
     },
     "execution_count": 4,
     "metadata": {},
     "output_type": "execute_result"
    }
   ],
   "source": [
    "[dt['qualification'] for dt in data['students']]"
   ]
  },
  {
   "cell_type": "markdown",
   "metadata": {},
   "source": [
    "# Print Additional Qualification of Students"
   ]
  },
  {
   "cell_type": "code",
   "execution_count": 5,
   "metadata": {},
   "outputs": [
    {
     "data": {
      "text/plain": [
       "[None, None, 'M.Tech', None]"
      ]
     },
     "execution_count": 5,
     "metadata": {},
     "output_type": "execute_result"
    }
   ],
   "source": [
    "[dt['additional qualification'] if 'additional qualification' in dt.keys() else None for dt in data['students']]"
   ]
  },
  {
   "cell_type": "code",
   "execution_count": null,
   "metadata": {},
   "outputs": [],
   "source": []
  }
 ],
 "metadata": {
  "kernelspec": {
   "display_name": "Python 3",
   "language": "python",
   "name": "python3"
  },
  "language_info": {
   "codemirror_mode": {
    "name": "ipython",
    "version": 3
   },
   "file_extension": ".py",
   "mimetype": "text/x-python",
   "name": "python",
   "nbconvert_exporter": "python",
   "pygments_lexer": "ipython3",
   "version": "3.7.0"
  }
 },
 "nbformat": 4,
 "nbformat_minor": 2
}
