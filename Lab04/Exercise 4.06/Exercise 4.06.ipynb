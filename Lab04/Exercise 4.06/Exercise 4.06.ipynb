{
 "cells": [
  {
   "cell_type": "markdown",
   "metadata": {},
   "source": [
    "# Exercise 6: Collect data using APIs\n",
    "Use Exchange Rates API to get USD to other currency rate for today:  https://www.exchangerate-api.com/"
   ]
  },
  {
   "cell_type": "code",
   "execution_count": 1,
   "metadata": {},
   "outputs": [],
   "source": [
    "import json\n",
    "import pprint\n",
    "import requests\n",
    "import pandas as pd"
   ]
  },
  {
   "cell_type": "code",
   "execution_count": 2,
   "metadata": {},
   "outputs": [
    {
     "name": "stdout",
     "output_type": "stream",
     "text": [
      "{'base': 'USD',\n",
      " 'date': '2020-01-26',\n",
      " 'rates': {'AED': 3.672058,\n",
      "           'ARS': 60.073152,\n",
      "           'AUD': 1.462619,\n",
      "           'BGN': 1.772324,\n",
      "           'BRL': 4.175311,\n",
      "           'BSD': 1,\n",
      "           'CAD': 1.313949,\n",
      "           'CHF': 0.970542,\n",
      "           'CLP': 775.032232,\n",
      "           'CNY': 6.937035,\n",
      "           'COP': 3356.26087,\n",
      "           'CZK': 22.774105,\n",
      "           'DKK': 6.769282,\n",
      "           'DOP': 53.200551,\n",
      "           'EGP': 15.731404,\n",
      "           'EUR': 0.906153,\n",
      "           'FJD': 2.173377,\n",
      "           'GBP': 0.763843,\n",
      "           'GTQ': 7.686349,\n",
      "           'HKD': 7.772394,\n",
      "           'HRK': 6.743727,\n",
      "           'HUF': 304.680441,\n",
      "           'IDR': 13481.299912,\n",
      "           'ILS': 3.454776,\n",
      "           'INR': 71.322065,\n",
      "           'ISK': 124.593825,\n",
      "           'JPY': 109.43859,\n",
      "           'KRW': 1168.893381,\n",
      "           'KZT': 378.401961,\n",
      "           'MXN': 18.789109,\n",
      "           'MYR': 4.06712,\n",
      "           'NOK': 9.020184,\n",
      "           'NZD': 1.513791,\n",
      "           'PAB': 1,\n",
      "           'PEN': 3.322153,\n",
      "           'PHP': 50.850544,\n",
      "           'PKR': 154.697395,\n",
      "           'PLN': 3.850458,\n",
      "           'PYG': 6432.833333,\n",
      "           'RON': 4.330082,\n",
      "           'RUB': 61.891661,\n",
      "           'SAR': 3.750937,\n",
      "           'SEK': 9.552551,\n",
      "           'SGD': 1.351475,\n",
      "           'THB': 30.561937,\n",
      "           'TRY': 5.940419,\n",
      "           'TWD': 30.040088,\n",
      "           'UAH': 24.306582,\n",
      "           'USD': 1,\n",
      "           'UYU': 37.255792,\n",
      "           'ZAR': 14.392269},\n",
      " 'time_last_updated': 1579997437}\n"
     ]
    }
   ],
   "source": [
    "r = requests.get(\"https://api.exchangerate-api.com/v4/latest/USD\")\n",
    "data = r.json()\n",
    "pprint.pprint(data)"
   ]
  },
  {
   "cell_type": "code",
   "execution_count": 3,
   "metadata": {},
   "outputs": [
    {
     "data": {
      "text/html": [
       "<div>\n",
       "<style scoped>\n",
       "    .dataframe tbody tr th:only-of-type {\n",
       "        vertical-align: middle;\n",
       "    }\n",
       "\n",
       "    .dataframe tbody tr th {\n",
       "        vertical-align: top;\n",
       "    }\n",
       "\n",
       "    .dataframe thead th {\n",
       "        text-align: right;\n",
       "    }\n",
       "</style>\n",
       "<table border=\"1\" class=\"dataframe\">\n",
       "  <thead>\n",
       "    <tr style=\"text-align: right;\">\n",
       "      <th></th>\n",
       "      <th>base</th>\n",
       "      <th>date</th>\n",
       "      <th>time_last_updated</th>\n",
       "      <th>rates</th>\n",
       "    </tr>\n",
       "  </thead>\n",
       "  <tbody>\n",
       "    <tr>\n",
       "      <th>AED</th>\n",
       "      <td>USD</td>\n",
       "      <td>2020-01-26</td>\n",
       "      <td>1579997437</td>\n",
       "      <td>3.672058</td>\n",
       "    </tr>\n",
       "    <tr>\n",
       "      <th>ARS</th>\n",
       "      <td>USD</td>\n",
       "      <td>2020-01-26</td>\n",
       "      <td>1579997437</td>\n",
       "      <td>60.073152</td>\n",
       "    </tr>\n",
       "    <tr>\n",
       "      <th>AUD</th>\n",
       "      <td>USD</td>\n",
       "      <td>2020-01-26</td>\n",
       "      <td>1579997437</td>\n",
       "      <td>1.462619</td>\n",
       "    </tr>\n",
       "    <tr>\n",
       "      <th>BGN</th>\n",
       "      <td>USD</td>\n",
       "      <td>2020-01-26</td>\n",
       "      <td>1579997437</td>\n",
       "      <td>1.772324</td>\n",
       "    </tr>\n",
       "    <tr>\n",
       "      <th>BRL</th>\n",
       "      <td>USD</td>\n",
       "      <td>2020-01-26</td>\n",
       "      <td>1579997437</td>\n",
       "      <td>4.175311</td>\n",
       "    </tr>\n",
       "  </tbody>\n",
       "</table>\n",
       "</div>"
      ],
      "text/plain": [
       "    base        date  time_last_updated      rates\n",
       "AED  USD  2020-01-26         1579997437   3.672058\n",
       "ARS  USD  2020-01-26         1579997437  60.073152\n",
       "AUD  USD  2020-01-26         1579997437   1.462619\n",
       "BGN  USD  2020-01-26         1579997437   1.772324\n",
       "BRL  USD  2020-01-26         1579997437   4.175311"
      ]
     },
     "execution_count": 3,
     "metadata": {},
     "output_type": "execute_result"
    }
   ],
   "source": [
    "df = pd.DataFrame(data)\n",
    "df.head()"
   ]
  },
  {
   "cell_type": "code",
   "execution_count": null,
   "metadata": {},
   "outputs": [],
   "source": []
  }
 ],
 "metadata": {
  "kernelspec": {
   "display_name": "Python 3",
   "language": "python",
   "name": "python3"
  },
  "language_info": {
   "codemirror_mode": {
    "name": "ipython",
    "version": 3
   },
   "file_extension": ".py",
   "mimetype": "text/x-python",
   "name": "python",
   "nbconvert_exporter": "python",
   "pygments_lexer": "ipython3",
   "version": "3.7.6"
  }
 },
 "nbformat": 4,
 "nbformat_minor": 2
}
