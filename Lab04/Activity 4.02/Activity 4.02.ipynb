{
 "cells": [
  {
   "cell_type": "markdown",
   "metadata": {},
   "source": [
    "# Activity 2: Extracting data from Packt's website\n",
    "Extract the following from Packt website <br>\n",
    "1) faqs and their answers from https://www.packtpub.com/books/info/packt/faq <br>\n",
    "2) Phone numbers and emails from https://www.packtpub.com/books/info/packt/terms-and-conditions <br>"
   ]
  },
  {
   "cell_type": "code",
   "execution_count": 1,
   "metadata": {},
   "outputs": [],
   "source": [
    "import requests\n",
    "from bs4 import BeautifulSoup"
   ]
  },
  {
   "cell_type": "code",
   "execution_count": 2,
   "metadata": {},
   "outputs": [
    {
     "data": {
      "text/plain": [
       "200"
      ]
     },
     "execution_count": 2,
     "metadata": {},
     "output_type": "execute_result"
    }
   ],
   "source": [
    "r = requests.get('https://www.packtpub.com/support/faq')\n",
    "r.status_code"
   ]
  },
  {
   "cell_type": "code",
   "execution_count": 3,
   "metadata": {},
   "outputs": [],
   "source": [
    "soup = BeautifulSoup(r.text, 'html.parser')"
   ]
  },
  {
   "cell_type": "code",
   "execution_count": 4,
   "metadata": {},
   "outputs": [],
   "source": [
    "qas = []\n",
    "for each in soup.find_all('div', attrs={\"class\":\"tab\"}):\n",
    "    question = each.find('label')\n",
    "    answer = each.find('div', attrs={\"class\":\"tab-content\"})\n",
    "    qas.append((question.text, answer.text))"
   ]
  },
  {
   "cell_type": "code",
   "execution_count": 5,
   "metadata": {
    "scrolled": true
   },
   "outputs": [
    {
     "name": "stdout",
     "output_type": "stream",
     "text": [
      "('What format are Packt eBooks?', '\\nPackt eBooks can be downloaded as a PDF, EPUB or MOBI file. They can also be viewed online using your subscription.\\n')\n"
     ]
    }
   ],
   "source": [
    "print(qas[1])"
   ]
  },
  {
   "cell_type": "code",
   "execution_count": 6,
   "metadata": {},
   "outputs": [
    {
     "data": {
      "text/html": [
       "<div>\n",
       "<style scoped>\n",
       "    .dataframe tbody tr th:only-of-type {\n",
       "        vertical-align: middle;\n",
       "    }\n",
       "\n",
       "    .dataframe tbody tr th {\n",
       "        vertical-align: top;\n",
       "    }\n",
       "\n",
       "    .dataframe thead th {\n",
       "        text-align: right;\n",
       "    }\n",
       "</style>\n",
       "<table border=\"1\" class=\"dataframe\">\n",
       "  <thead>\n",
       "    <tr style=\"text-align: right;\">\n",
       "      <th></th>\n",
       "      <th>Question</th>\n",
       "      <th>Answer</th>\n",
       "    </tr>\n",
       "  </thead>\n",
       "  <tbody>\n",
       "    <tr>\n",
       "      <th>0</th>\n",
       "      <td>How can I download eBooks?</td>\n",
       "      <td>\\nOnce you complete your eBook purchase, the d...</td>\n",
       "    </tr>\n",
       "    <tr>\n",
       "      <th>1</th>\n",
       "      <td>What format are Packt eBooks?</td>\n",
       "      <td>\\nPackt eBooks can be downloaded as a PDF, EPU...</td>\n",
       "    </tr>\n",
       "    <tr>\n",
       "      <th>2</th>\n",
       "      <td>Can I send an eBook to my Kindle?</td>\n",
       "      <td>\\nYes, if you follow the previous instructions...</td>\n",
       "    </tr>\n",
       "    <tr>\n",
       "      <th>3</th>\n",
       "      <td>How can I download code files for eBooks and V...</td>\n",
       "      <td>\\nThere are a number of simple ways to access ...</td>\n",
       "    </tr>\n",
       "    <tr>\n",
       "      <th>4</th>\n",
       "      <td>How can I download Videos?</td>\n",
       "      <td>\\nOnce you complete your Video purchase, the d...</td>\n",
       "    </tr>\n",
       "  </tbody>\n",
       "</table>\n",
       "</div>"
      ],
      "text/plain": [
       "                                            Question  \\\n",
       "0                         How can I download eBooks?   \n",
       "1                      What format are Packt eBooks?   \n",
       "2                  Can I send an eBook to my Kindle?   \n",
       "3  How can I download code files for eBooks and V...   \n",
       "4                         How can I download Videos?   \n",
       "\n",
       "                                              Answer  \n",
       "0  \\nOnce you complete your eBook purchase, the d...  \n",
       "1  \\nPackt eBooks can be downloaded as a PDF, EPU...  \n",
       "2  \\nYes, if you follow the previous instructions...  \n",
       "3  \\nThere are a number of simple ways to access ...  \n",
       "4  \\nOnce you complete your Video purchase, the d...  "
      ]
     },
     "execution_count": 6,
     "metadata": {},
     "output_type": "execute_result"
    }
   ],
   "source": [
    "import pandas as pd\n",
    "pd.DataFrame(qas, columns=['Question', 'Answer']).head()"
   ]
  },
  {
   "cell_type": "markdown",
   "metadata": {},
   "source": [
    "# Extract phone/fax numbers and email address from terms and conditions page of Packt"
   ]
  },
  {
   "cell_type": "code",
   "execution_count": 7,
   "metadata": {},
   "outputs": [
    {
     "data": {
      "text/plain": [
       "200"
      ]
     },
     "execution_count": 7,
     "metadata": {},
     "output_type": "execute_result"
    }
   ],
   "source": [
    "tc_page_r = requests.get('https://www.packtpub.com/books/info/packt/terms-and-conditions')\n",
    "tc_page_r.status_code"
   ]
  },
  {
   "cell_type": "code",
   "execution_count": 8,
   "metadata": {},
   "outputs": [],
   "source": [
    "soup2 = BeautifulSoup(tc_page_r.text, 'html.parser')"
   ]
  },
  {
   "cell_type": "code",
   "execution_count": 9,
   "metadata": {},
   "outputs": [
    {
     "data": {
      "text/plain": [
       "{'customercare@packt.com', 'subscription.support@packt.com'}"
      ]
     },
     "execution_count": 9,
     "metadata": {},
     "output_type": "execute_result"
    }
   ],
   "source": [
    "import re\n",
    "set(re.findall(r\"[A-Za-z0-9._%+-]+@[A-Za-z0-9.-]+\\.[A-Za-z]{2,4}\",soup2.text))"
   ]
  },
  {
   "cell_type": "code",
   "execution_count": 10,
   "metadata": {},
   "outputs": [
    {
     "data": {
      "text/plain": [
       "['+44 (0) 121 265 648', '+44 (0) 121 212 141']"
      ]
     },
     "execution_count": 10,
     "metadata": {},
     "output_type": "execute_result"
    }
   ],
   "source": [
    "re.findall(r\"\\+\\d{2}\\s{1}\\(0\\)\\s\\d{3}\\s\\d{3}\\s\\d{3}\",soup2.text)"
   ]
  },
  {
   "cell_type": "code",
   "execution_count": null,
   "metadata": {},
   "outputs": [],
   "source": []
  }
 ],
 "metadata": {
  "kernelspec": {
   "display_name": "Python 3",
   "language": "python",
   "name": "python3"
  },
  "language_info": {
   "codemirror_mode": {
    "name": "ipython",
    "version": 3
   },
   "file_extension": ".py",
   "mimetype": "text/x-python",
   "name": "python",
   "nbconvert_exporter": "python",
   "pygments_lexer": "ipython3",
   "version": "3.7.6"
  }
 },
 "nbformat": 4,
 "nbformat_minor": 2
}
