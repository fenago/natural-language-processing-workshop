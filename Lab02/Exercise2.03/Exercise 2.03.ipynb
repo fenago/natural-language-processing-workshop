{
 "cells": [
  {
   "cell_type": "code",
   "execution_count": 1,
   "metadata": {},
   "outputs": [
    {
     "name": "stderr",
     "output_type": "stream",
     "text": [
      "Using TensorFlow backend.\n"
     ]
    }
   ],
   "source": [
    "from keras.preprocessing.text import text_to_word_sequence\n",
    "from textblob import TextBlob\n",
    "\n",
    "sentence = 'Sunil tweeted, \"Witnessing 70th Republic Day of India from Rajpath, \\\n",
    "New Delhi. Mesmerizing performancesby Indian Army! Awesome airshow! @india_official \\\n",
    "@indian_army #India #70thRepublic_Day. For more photos ping me sunil@photoking.com :)\"'"
   ]
  },
  {
   "cell_type": "code",
   "execution_count": 2,
   "metadata": {},
   "outputs": [
    {
     "data": {
      "text/plain": [
       "['sunil',\n",
       " 'tweeted',\n",
       " 'witnessing',\n",
       " '70th',\n",
       " 'republic',\n",
       " 'day',\n",
       " 'of',\n",
       " 'india',\n",
       " 'from',\n",
       " 'rajpath',\n",
       " 'new',\n",
       " 'delhi',\n",
       " 'mesmerizing',\n",
       " 'performancesby',\n",
       " 'indian',\n",
       " 'army',\n",
       " 'awesome',\n",
       " 'airshow',\n",
       " 'india',\n",
       " 'official',\n",
       " 'indian',\n",
       " 'army',\n",
       " 'india',\n",
       " '70threpublic',\n",
       " 'day',\n",
       " 'for',\n",
       " 'more',\n",
       " 'photos',\n",
       " 'ping',\n",
       " 'me',\n",
       " 'sunil',\n",
       " 'photoking',\n",
       " 'com']"
      ]
     },
     "execution_count": 2,
     "metadata": {},
     "output_type": "execute_result"
    }
   ],
   "source": [
    "def get_keras_tokens(text):\n",
    "    return text_to_word_sequence(text)\n",
    "\n",
    "get_keras_tokens(sentence)"
   ]
  },
  {
   "cell_type": "code",
   "execution_count": 3,
   "metadata": {},
   "outputs": [
    {
     "data": {
      "text/plain": [
       "WordList(['Sunil', 'tweeted', 'Witnessing', '70th', 'Republic', 'Day', 'of', 'India', 'from', 'Rajpath', 'New', 'Delhi', 'Mesmerizing', 'performancesby', 'Indian', 'Army', 'Awesome', 'airshow', 'india_official', 'indian_army', 'India', '70thRepublic_Day', 'For', 'more', 'photos', 'ping', 'me', 'sunil', 'photoking.com'])"
      ]
     },
     "execution_count": 3,
     "metadata": {},
     "output_type": "execute_result"
    }
   ],
   "source": [
    "def get_textblob_tokens(text):\n",
    "    blob = TextBlob(text)\n",
    "    return blob.words\n",
    "\n",
    "get_textblob_tokens(sentence)"
   ]
  }
 ],
 "metadata": {
  "kernelspec": {
   "display_name": "Python 3",
   "language": "python",
   "name": "python3"
  },
  "language_info": {
   "codemirror_mode": {
    "name": "ipython",
    "version": 3
   },
   "file_extension": ".py",
   "mimetype": "text/x-python",
   "name": "python",
   "nbconvert_exporter": "python",
   "pygments_lexer": "ipython3",
   "version": "3.5.2"
  }
 },
 "nbformat": 4,
 "nbformat_minor": 2
}
